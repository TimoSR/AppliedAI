{
 "cells": [
  {
   "cell_type": "markdown",
   "metadata": {},
   "source": [
    "In Pandas, `set_index()` is a method that is used to set one or more columns of a DataFrame as the index of the DataFrame.\n",
    "\n",
    "```python\n",
    "dataframe.set_index(keys, drop=True, append=False, inplace=False, verify_integrity=False)\n",
    "```\n",
    "\n",
    "- `dataframe` is the name of the DataFrame you want to set the index of\n",
    "- `keys` is either a single column name or a list of column names to use as the index\n",
    "- `drop` specifies whether to drop the specified columns from the DataFrame\n",
    "- `append` specifies whether to append the new index to the existing index \n",
    "- `inplace` specifies whether to modify the DataFrame in place or return a new DataFrame with the specified index\n",
    "- `verify_integrity` specifies whether to check if the new index has duplicates and raise an error if it does."
   ]
  },
  {
   "cell_type": "code",
   "execution_count": 4,
   "metadata": {},
   "outputs": [
    {
     "name": "stdout",
     "output_type": "stream",
     "text": [
      "Hello World!\n"
     ]
    }
   ],
   "source": [
    "print(\"Hello World!\")"
   ]
  }
 ],
 "metadata": {
  "kernelspec": {
   "display_name": "Python 3 (ipykernel)",
   "language": "python",
   "name": "python3"
  },
  "language_info": {
   "codemirror_mode": {
    "name": "ipython",
    "version": 3
   },
   "file_extension": ".py",
   "mimetype": "text/x-python",
   "name": "python",
   "nbconvert_exporter": "python",
   "pygments_lexer": "ipython3",
   "version": "3.10.10"
  }
 },
 "nbformat": 4,
 "nbformat_minor": 2
}
